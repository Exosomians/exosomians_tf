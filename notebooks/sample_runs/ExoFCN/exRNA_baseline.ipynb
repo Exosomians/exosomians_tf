{
 "cells": [
  {
   "cell_type": "markdown",
   "metadata": {},
   "source": [
    "# Sample Run for exRNA_baseline Dataset"
   ]
  },
  {
   "cell_type": "markdown",
   "metadata": {},
   "source": [
    "# Import necessary packages"
   ]
  },
  {
   "cell_type": "code",
   "execution_count": 1,
   "metadata": {},
   "outputs": [],
   "source": [
    "import os \n",
    "os.chdir(\"../../../\")"
   ]
  },
  {
   "cell_type": "code",
   "execution_count": 2,
   "metadata": {},
   "outputs": [
    {
     "name": "stderr",
     "output_type": "stream",
     "text": [
      "Using TensorFlow backend.\n"
     ]
    }
   ],
   "source": [
    "import exoNet\n",
    "import scanpy as sc\n",
    "import numpy as np\n",
    "import pandas as pd"
   ]
  },
  {
   "cell_type": "markdown",
   "metadata": {},
   "source": [
    "# Data Loading and Preprocessing"
   ]
  },
  {
   "cell_type": "code",
   "execution_count": 3,
   "metadata": {},
   "outputs": [
    {
     "data": {
      "text/plain": [
       "(11425, 266)"
      ]
     },
     "execution_count": 3,
     "metadata": {},
     "output_type": "execute_result"
    }
   ],
   "source": [
    "data = np.load(\"./Data/exRNA_baseline/features.npy\")\n",
    "data.shape"
   ]
  },
  {
   "cell_type": "code",
   "execution_count": 4,
   "metadata": {},
   "outputs": [
    {
     "data": {
      "text/plain": [
       "(11425,)"
      ]
     },
     "execution_count": 4,
     "metadata": {},
     "output_type": "execute_result"
    }
   ],
   "source": [
    "labels = np.load(\"./Data/exRNA_baseline/labels.npy\", allow_pickle=True)\n",
    "labels.shape"
   ]
  },
  {
   "cell_type": "markdown",
   "metadata": {},
   "source": [
    "# Model Instatiation"
   ]
  },
  {
   "cell_type": "code",
   "execution_count": 5,
   "metadata": {},
   "outputs": [
    {
     "name": "stdout",
     "output_type": "stream",
     "text": [
      "WARNING:tensorflow:From /home/mohsen/miniconda3/envs/venv/lib/python3.6/site-packages/tensorflow/python/framework/op_def_library.py:263: colocate_with (from tensorflow.python.framework.ops) is deprecated and will be removed in a future version.\n",
      "Instructions for updating:\n",
      "Colocations handled automatically by placer.\n",
      "WARNING:tensorflow:From /home/mohsen/miniconda3/envs/venv/lib/python3.6/site-packages/keras/backend/tensorflow_backend.py:3445: calling dropout (from tensorflow.python.ops.nn_ops) with keep_prob is deprecated and will be removed in a future version.\n",
      "Instructions for updating:\n",
      "Please use `rate` instead of `keep_prob`. Rate should be set to `rate = 1 - keep_prob`.\n",
      "_________________________________________________________________\n",
      "Layer (type)                 Output Shape              Param #   \n",
      "=================================================================\n",
      "data (InputLayer)            (None, 266)               0         \n",
      "_________________________________________________________________\n",
      "dense_1 (Dense)              (None, 128)               34048     \n",
      "_________________________________________________________________\n",
      "batch_normalization_1 (Batch (None, 128)               512       \n",
      "_________________________________________________________________\n",
      "leaky_re_lu_1 (LeakyReLU)    (None, 128)               0         \n",
      "_________________________________________________________________\n",
      "dropout_1 (Dropout)          (None, 128)               0         \n",
      "_________________________________________________________________\n",
      "dense_2 (Dense)              (None, 64)                8192      \n",
      "_________________________________________________________________\n",
      "batch_normalization_2 (Batch (None, 64)                256       \n",
      "_________________________________________________________________\n",
      "leaky_re_lu_2 (LeakyReLU)    (None, 64)                0         \n",
      "_________________________________________________________________\n",
      "dropout_2 (Dropout)          (None, 64)                0         \n",
      "_________________________________________________________________\n",
      "dense_3 (Dense)              (None, 32)                2048      \n",
      "_________________________________________________________________\n",
      "batch_normalization_3 (Batch (None, 32)                128       \n",
      "_________________________________________________________________\n",
      "leaky_re_lu_3 (LeakyReLU)    (None, 32)                0         \n",
      "_________________________________________________________________\n",
      "dropout_3 (Dropout)          (None, 32)                0         \n",
      "_________________________________________________________________\n",
      "dense_4 (Dense)              (None, 2)                 66        \n",
      "=================================================================\n",
      "Total params: 45,250\n",
      "Trainable params: 44,802\n",
      "Non-trainable params: 448\n",
      "_________________________________________________________________\n"
     ]
    }
   ],
   "source": [
    "network = exoNet.models.ExoFCN(x_dimension=data.shape[1],\n",
    "                                 n_classes=2,\n",
    "                                 architecture=[128, 64, 32],\n",
    "                                 use_batchnorm=True,\n",
    "                                 activations='leaky_relu',\n",
    "                                 model_path=\"./models/ExoFCN/\",\n",
    "                                 dropout_rate=0.2,\n",
    "                                 )"
   ]
  },
  {
   "cell_type": "code",
   "execution_count": 6,
   "metadata": {},
   "outputs": [
    {
     "name": "stdout",
     "output_type": "stream",
     "text": [
      "WARNING:tensorflow:From /home/mohsen/miniconda3/envs/venv/lib/python3.6/site-packages/tensorflow/python/ops/math_ops.py:3066: to_int32 (from tensorflow.python.ops.math_ops) is deprecated and will be removed in a future version.\n",
      "Instructions for updating:\n",
      "Use tf.cast instead.\n",
      "Train on 9140 samples, validate on 2285 samples\n",
      "Epoch 1/500\n",
      " - 4s - loss: 0.3829 - acc: 0.8501 - sensitivity: 0.8501 - specificity: 0.8501 - val_loss: 0.3860 - val_acc: 0.8289 - val_sensitivity: 0.8289 - val_specificity: 0.8289\n",
      "Epoch 2/500\n",
      " - 2s - loss: 0.3264 - acc: 0.8767 - sensitivity: 0.8767 - specificity: 0.8767 - val_loss: 0.3930 - val_acc: 0.8600 - val_sensitivity: 0.8600 - val_specificity: 0.8600\n",
      "Epoch 3/500\n",
      " - 2s - loss: 0.2983 - acc: 0.8887 - sensitivity: 0.8887 - specificity: 0.8887 - val_loss: 0.5849 - val_acc: 0.8862 - val_sensitivity: 0.8862 - val_specificity: 0.8862\n",
      "Epoch 4/500\n",
      " - 2s - loss: 0.2950 - acc: 0.8867 - sensitivity: 0.8867 - specificity: 0.8867 - val_loss: 0.5328 - val_acc: 0.8827 - val_sensitivity: 0.8827 - val_specificity: 0.8827\n",
      "Epoch 5/500\n",
      " - 2s - loss: 0.2777 - acc: 0.8965 - sensitivity: 0.8965 - specificity: 0.8965 - val_loss: 0.7869 - val_acc: 0.2411 - val_sensitivity: 0.2411 - val_specificity: 0.2411\n",
      "Epoch 6/500\n",
      " - 2s - loss: 0.2786 - acc: 0.8949 - sensitivity: 0.8949 - specificity: 0.8949 - val_loss: 0.7822 - val_acc: 0.2411 - val_sensitivity: 0.2411 - val_specificity: 0.2411\n",
      "Epoch 7/500\n",
      " - 2s - loss: 0.2638 - acc: 0.9000 - sensitivity: 0.9000 - specificity: 0.9000 - val_loss: 1.0084 - val_acc: 0.2411 - val_sensitivity: 0.2411 - val_specificity: 0.2411\n",
      "Epoch 8/500\n",
      " - 2s - loss: 0.2565 - acc: 0.9030 - sensitivity: 0.9030 - specificity: 0.9030 - val_loss: 0.8732 - val_acc: 0.2411 - val_sensitivity: 0.2411 - val_specificity: 0.2411\n",
      "Epoch 9/500\n",
      " - 2s - loss: 0.2521 - acc: 0.9053 - sensitivity: 0.9053 - specificity: 0.9053 - val_loss: 1.0476 - val_acc: 0.2411 - val_sensitivity: 0.2411 - val_specificity: 0.2411\n",
      "Epoch 10/500\n",
      " - 2s - loss: 0.2450 - acc: 0.9049 - sensitivity: 0.9049 - specificity: 0.9049 - val_loss: 1.1115 - val_acc: 0.2407 - val_sensitivity: 0.2407 - val_specificity: 0.2407\n",
      "Epoch 11/500\n",
      " - 2s - loss: 0.2459 - acc: 0.9040 - sensitivity: 0.9040 - specificity: 0.9040 - val_loss: 1.1205 - val_acc: 0.2411 - val_sensitivity: 0.2411 - val_specificity: 0.2411\n",
      "Epoch 12/500\n",
      " - 2s - loss: 0.2379 - acc: 0.9106 - sensitivity: 0.9106 - specificity: 0.9106 - val_loss: 1.1355 - val_acc: 0.2411 - val_sensitivity: 0.2411 - val_specificity: 0.2411\n",
      "Epoch 13/500\n",
      " - 2s - loss: 0.2305 - acc: 0.9133 - sensitivity: 0.9133 - specificity: 0.9133 - val_loss: 1.2329 - val_acc: 0.2411 - val_sensitivity: 0.2411 - val_specificity: 0.2411\n",
      "Epoch 14/500\n",
      " - 2s - loss: 0.2375 - acc: 0.9095 - sensitivity: 0.9095 - specificity: 0.9095 - val_loss: 1.3035 - val_acc: 0.2411 - val_sensitivity: 0.2411 - val_specificity: 0.2411\n",
      "Epoch 15/500\n",
      " - 2s - loss: 0.2194 - acc: 0.9177 - sensitivity: 0.9177 - specificity: 0.9177 - val_loss: 1.2736 - val_acc: 0.2411 - val_sensitivity: 0.2411 - val_specificity: 0.2411\n",
      "Epoch 16/500\n",
      " - 2s - loss: 0.2318 - acc: 0.9137 - sensitivity: 0.9137 - specificity: 0.9137 - val_loss: 1.2298 - val_acc: 0.2411 - val_sensitivity: 0.2411 - val_specificity: 0.2411\n",
      "Epoch 17/500\n",
      " - 2s - loss: 0.2366 - acc: 0.9139 - sensitivity: 0.9139 - specificity: 0.9139 - val_loss: 1.1856 - val_acc: 0.2411 - val_sensitivity: 0.2411 - val_specificity: 0.2411\n",
      "Epoch 18/500\n",
      " - 2s - loss: 0.2129 - acc: 0.9195 - sensitivity: 0.9195 - specificity: 0.9195 - val_loss: 1.3577 - val_acc: 0.2411 - val_sensitivity: 0.2411 - val_specificity: 0.2411\n",
      "Epoch 19/500\n",
      " - 2s - loss: 0.2149 - acc: 0.9188 - sensitivity: 0.9188 - specificity: 0.9188 - val_loss: 1.4583 - val_acc: 0.2411 - val_sensitivity: 0.2411 - val_specificity: 0.2411\n",
      "Epoch 20/500\n",
      " - 2s - loss: 0.2227 - acc: 0.9170 - sensitivity: 0.9170 - specificity: 0.9170 - val_loss: 1.3192 - val_acc: 0.2411 - val_sensitivity: 0.2411 - val_specificity: 0.2411\n",
      "Epoch 21/500\n",
      " - 2s - loss: 0.2077 - acc: 0.9214 - sensitivity: 0.9214 - specificity: 0.9214 - val_loss: 1.6604 - val_acc: 0.2411 - val_sensitivity: 0.2411 - val_specificity: 0.2411\n"
     ]
    }
   ],
   "source": [
    "network.train(data,\n",
    "              labels, \n",
    "              le={\"NO\": 0, \"YES\": 1},\n",
    "              n_epochs=500,\n",
    "              batch_size=32,\n",
    "              early_stopping_kwargs={\"patience\": 20, \"monitor\": \"val_loss\"},\n",
    "              )"
   ]
  },
  {
   "cell_type": "code",
   "execution_count": null,
   "metadata": {},
   "outputs": [],
   "source": []
  }
 ],
 "metadata": {
  "kernelspec": {
   "display_name": "Python 3",
   "language": "python",
   "name": "python3"
  },
  "language_info": {
   "codemirror_mode": {
    "name": "ipython",
    "version": 3
   },
   "file_extension": ".py",
   "mimetype": "text/x-python",
   "name": "python",
   "nbconvert_exporter": "python",
   "pygments_lexer": "ipython3",
   "version": "3.6.8"
  }
 },
 "nbformat": 4,
 "nbformat_minor": 2
}
