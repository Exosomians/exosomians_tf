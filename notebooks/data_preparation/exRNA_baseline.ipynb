{
 "cells": [
  {
   "cell_type": "markdown",
   "metadata": {},
   "source": [
    "# Data Preparation notebook for exRNA_baseline Dataset"
   ]
  },
  {
   "cell_type": "markdown",
   "metadata": {},
   "source": [
    "# Import necessary packages"
   ]
  },
  {
   "cell_type": "code",
   "execution_count": 1,
   "metadata": {},
   "outputs": [],
   "source": [
    "import os\n",
    "os.chdir(\"../../\")"
   ]
  },
  {
   "cell_type": "code",
   "execution_count": 2,
   "metadata": {},
   "outputs": [
    {
     "name": "stderr",
     "output_type": "stream",
     "text": [
      "Using TensorFlow backend.\n"
     ]
    }
   ],
   "source": [
    "import exoNet\n",
    "import scanpy as sc\n",
    "import numpy as np\n",
    "import pandas as pd"
   ]
  },
  {
   "cell_type": "markdown",
   "metadata": {},
   "source": [
    "# Data Loading"
   ]
  },
  {
   "cell_type": "code",
   "execution_count": 3,
   "metadata": {},
   "outputs": [
    {
     "data": {
      "text/plain": [
       "(11425, 270)"
      ]
     },
     "execution_count": 3,
     "metadata": {},
     "output_type": "execute_result"
    }
   ],
   "source": [
    "data_df = pd.read_csv(\"./Data/oldDataRefined/DesignMatrices/4_DesignMat_SS_Kmer_Label.csv\", index_col='id')\n",
    "data_df.shape"
   ]
  },
  {
   "cell_type": "code",
   "execution_count": 4,
   "metadata": {},
   "outputs": [],
   "source": [
    "data_columns = data_df.columns.tolist()"
   ]
  },
  {
   "cell_type": "code",
   "execution_count": 5,
   "metadata": {},
   "outputs": [],
   "source": [
    "seq_columns = ['seq', 'DB']\n",
    "fcn_columns = [column for column in data_columns if not column in seq_columns]"
   ]
  },
  {
   "cell_type": "code",
   "execution_count": 6,
   "metadata": {},
   "outputs": [
    {
     "data": {
      "text/html": [
       "<div>\n",
       "<style scoped>\n",
       "    .dataframe tbody tr th:only-of-type {\n",
       "        vertical-align: middle;\n",
       "    }\n",
       "\n",
       "    .dataframe tbody tr th {\n",
       "        vertical-align: top;\n",
       "    }\n",
       "\n",
       "    .dataframe thead th {\n",
       "        text-align: right;\n",
       "    }\n",
       "</style>\n",
       "<table border=\"1\" class=\"dataframe\">\n",
       "  <thead>\n",
       "    <tr style=\"text-align: right;\">\n",
       "      <th></th>\n",
       "      <th>seq</th>\n",
       "      <th>DB</th>\n",
       "    </tr>\n",
       "    <tr>\n",
       "      <th>id</th>\n",
       "      <th></th>\n",
       "      <th></th>\n",
       "    </tr>\n",
       "  </thead>\n",
       "  <tbody>\n",
       "    <tr>\n",
       "      <th>chr1_100038134_100038156</th>\n",
       "      <td>CUCGCCGAGCCGGGCCGUCAUCA</td>\n",
       "      <td>...(((......)))........</td>\n",
       "    </tr>\n",
       "    <tr>\n",
       "      <th>chr1_100088027_100088063</th>\n",
       "      <td>ACUUUACAGAGUCCAUUUGUCCACCCGUAGUGUCGAG</td>\n",
       "      <td>.....(((((.....))))).(((.....))).....</td>\n",
       "    </tr>\n",
       "    <tr>\n",
       "      <th>chr1_102096379_102096418</th>\n",
       "      <td>GUUGGGGCACAAAAUCGAGUCAUCGAUUUCGAGACGUGGA</td>\n",
       "      <td>.(((.....)))...((.(((.(((....)))))).))..</td>\n",
       "    </tr>\n",
       "    <tr>\n",
       "      <th>chr1_102151616_102151639</th>\n",
       "      <td>GAAAUCUCUGCCCCAGAACGAGAU</td>\n",
       "      <td>...(((((...........)))))</td>\n",
       "    </tr>\n",
       "    <tr>\n",
       "      <th>chr1_10298983_10299071</th>\n",
       "      <td>UGUAUAUGAUUUUAACCUUGCUAUGUCUCUUCUAAUCGUACCGGGG...</td>\n",
       "      <td>..............(((((((...((((....(((.(((((.((((...</td>\n",
       "    </tr>\n",
       "  </tbody>\n",
       "</table>\n",
       "</div>"
      ],
      "text/plain": [
       "                                                                        seq  \\\n",
       "id                                                                            \n",
       "chr1_100038134_100038156                            CUCGCCGAGCCGGGCCGUCAUCA   \n",
       "chr1_100088027_100088063              ACUUUACAGAGUCCAUUUGUCCACCCGUAGUGUCGAG   \n",
       "chr1_102096379_102096418           GUUGGGGCACAAAAUCGAGUCAUCGAUUUCGAGACGUGGA   \n",
       "chr1_102151616_102151639                           GAAAUCUCUGCCCCAGAACGAGAU   \n",
       "chr1_10298983_10299071    UGUAUAUGAUUUUAACCUUGCUAUGUCUCUUCUAAUCGUACCGGGG...   \n",
       "\n",
       "                                                                         DB  \n",
       "id                                                                           \n",
       "chr1_100038134_100038156                            ...(((......)))........  \n",
       "chr1_100088027_100088063              .....(((((.....))))).(((.....))).....  \n",
       "chr1_102096379_102096418           .(((.....)))...((.(((.(((....)))))).))..  \n",
       "chr1_102151616_102151639                           ...(((((...........)))))  \n",
       "chr1_10298983_10299071    ..............(((((((...((((....(((.(((((.((((...  "
      ]
     },
     "execution_count": 6,
     "metadata": {},
     "output_type": "execute_result"
    }
   ],
   "source": [
    "seq_data_df = data_df[seq_columns]\n",
    "seq_data_df.head()"
   ]
  },
  {
   "cell_type": "code",
   "execution_count": 7,
   "metadata": {},
   "outputs": [
    {
     "data": {
      "text/html": [
       "<div>\n",
       "<style scoped>\n",
       "    .dataframe tbody tr th:only-of-type {\n",
       "        vertical-align: middle;\n",
       "    }\n",
       "\n",
       "    .dataframe tbody tr th {\n",
       "        vertical-align: top;\n",
       "    }\n",
       "\n",
       "    .dataframe thead th {\n",
       "        text-align: right;\n",
       "    }\n",
       "</style>\n",
       "<table border=\"1\" class=\"dataframe\">\n",
       "  <thead>\n",
       "    <tr style=\"text-align: right;\">\n",
       "      <th></th>\n",
       "      <th>chr</th>\n",
       "      <th>length</th>\n",
       "      <th>a</th>\n",
       "      <th>c</th>\n",
       "      <th>g</th>\n",
       "      <th>u</th>\n",
       "      <th>ic</th>\n",
       "      <th>ev</th>\n",
       "      <th>label</th>\n",
       "      <th>FreeEnergy</th>\n",
       "      <th>...</th>\n",
       "      <th>UUCG</th>\n",
       "      <th>UUCU</th>\n",
       "      <th>UUGA</th>\n",
       "      <th>UUGC</th>\n",
       "      <th>UUGG</th>\n",
       "      <th>UUGU</th>\n",
       "      <th>UUUA</th>\n",
       "      <th>UUUC</th>\n",
       "      <th>UUUG</th>\n",
       "      <th>UUUU</th>\n",
       "    </tr>\n",
       "    <tr>\n",
       "      <th>id</th>\n",
       "      <th></th>\n",
       "      <th></th>\n",
       "      <th></th>\n",
       "      <th></th>\n",
       "      <th></th>\n",
       "      <th></th>\n",
       "      <th></th>\n",
       "      <th></th>\n",
       "      <th></th>\n",
       "      <th></th>\n",
       "      <th></th>\n",
       "      <th></th>\n",
       "      <th></th>\n",
       "      <th></th>\n",
       "      <th></th>\n",
       "      <th></th>\n",
       "      <th></th>\n",
       "      <th></th>\n",
       "      <th></th>\n",
       "      <th></th>\n",
       "      <th></th>\n",
       "    </tr>\n",
       "  </thead>\n",
       "  <tbody>\n",
       "    <tr>\n",
       "      <th>chr1_100038134_100038156</th>\n",
       "      <td>chr1</td>\n",
       "      <td>23</td>\n",
       "      <td>3</td>\n",
       "      <td>10</td>\n",
       "      <td>7</td>\n",
       "      <td>3</td>\n",
       "      <td>47</td>\n",
       "      <td>0</td>\n",
       "      <td>NO</td>\n",
       "      <td>-4.8</td>\n",
       "      <td>...</td>\n",
       "      <td>0</td>\n",
       "      <td>0</td>\n",
       "      <td>0</td>\n",
       "      <td>0</td>\n",
       "      <td>0</td>\n",
       "      <td>0</td>\n",
       "      <td>0</td>\n",
       "      <td>0</td>\n",
       "      <td>0</td>\n",
       "      <td>0</td>\n",
       "    </tr>\n",
       "    <tr>\n",
       "      <th>chr1_100088027_100088063</th>\n",
       "      <td>chr1</td>\n",
       "      <td>37</td>\n",
       "      <td>8</td>\n",
       "      <td>10</td>\n",
       "      <td>8</td>\n",
       "      <td>11</td>\n",
       "      <td>3836</td>\n",
       "      <td>0</td>\n",
       "      <td>NO</td>\n",
       "      <td>-2.3</td>\n",
       "      <td>...</td>\n",
       "      <td>0</td>\n",
       "      <td>0</td>\n",
       "      <td>0</td>\n",
       "      <td>0</td>\n",
       "      <td>0</td>\n",
       "      <td>1</td>\n",
       "      <td>1</td>\n",
       "      <td>0</td>\n",
       "      <td>1</td>\n",
       "      <td>0</td>\n",
       "    </tr>\n",
       "    <tr>\n",
       "      <th>chr1_102096379_102096418</th>\n",
       "      <td>chr1</td>\n",
       "      <td>40</td>\n",
       "      <td>11</td>\n",
       "      <td>7</td>\n",
       "      <td>13</td>\n",
       "      <td>9</td>\n",
       "      <td>39</td>\n",
       "      <td>0</td>\n",
       "      <td>NO</td>\n",
       "      <td>-6.8</td>\n",
       "      <td>...</td>\n",
       "      <td>1</td>\n",
       "      <td>0</td>\n",
       "      <td>0</td>\n",
       "      <td>0</td>\n",
       "      <td>1</td>\n",
       "      <td>0</td>\n",
       "      <td>0</td>\n",
       "      <td>1</td>\n",
       "      <td>0</td>\n",
       "      <td>0</td>\n",
       "    </tr>\n",
       "    <tr>\n",
       "      <th>chr1_102151616_102151639</th>\n",
       "      <td>chr1</td>\n",
       "      <td>24</td>\n",
       "      <td>8</td>\n",
       "      <td>7</td>\n",
       "      <td>5</td>\n",
       "      <td>4</td>\n",
       "      <td>83</td>\n",
       "      <td>0</td>\n",
       "      <td>NO</td>\n",
       "      <td>-2.6</td>\n",
       "      <td>...</td>\n",
       "      <td>0</td>\n",
       "      <td>0</td>\n",
       "      <td>0</td>\n",
       "      <td>0</td>\n",
       "      <td>0</td>\n",
       "      <td>0</td>\n",
       "      <td>0</td>\n",
       "      <td>0</td>\n",
       "      <td>0</td>\n",
       "      <td>0</td>\n",
       "    </tr>\n",
       "    <tr>\n",
       "      <th>chr1_10298983_10299071</th>\n",
       "      <td>chr1</td>\n",
       "      <td>89</td>\n",
       "      <td>20</td>\n",
       "      <td>19</td>\n",
       "      <td>18</td>\n",
       "      <td>32</td>\n",
       "      <td>618</td>\n",
       "      <td>9</td>\n",
       "      <td>YES</td>\n",
       "      <td>-20.6</td>\n",
       "      <td>...</td>\n",
       "      <td>1</td>\n",
       "      <td>1</td>\n",
       "      <td>0</td>\n",
       "      <td>1</td>\n",
       "      <td>0</td>\n",
       "      <td>0</td>\n",
       "      <td>2</td>\n",
       "      <td>0</td>\n",
       "      <td>0</td>\n",
       "      <td>1</td>\n",
       "    </tr>\n",
       "  </tbody>\n",
       "</table>\n",
       "<p>5 rows × 268 columns</p>\n",
       "</div>"
      ],
      "text/plain": [
       "                           chr  length   a   c   g   u    ic  ev label  \\\n",
       "id                                                                       \n",
       "chr1_100038134_100038156  chr1      23   3  10   7   3    47   0    NO   \n",
       "chr1_100088027_100088063  chr1      37   8  10   8  11  3836   0    NO   \n",
       "chr1_102096379_102096418  chr1      40  11   7  13   9    39   0    NO   \n",
       "chr1_102151616_102151639  chr1      24   8   7   5   4    83   0    NO   \n",
       "chr1_10298983_10299071    chr1      89  20  19  18  32   618   9   YES   \n",
       "\n",
       "                          FreeEnergy  ...  UUCG  UUCU  UUGA  UUGC  UUGG  UUGU  \\\n",
       "id                                    ...                                       \n",
       "chr1_100038134_100038156        -4.8  ...     0     0     0     0     0     0   \n",
       "chr1_100088027_100088063        -2.3  ...     0     0     0     0     0     1   \n",
       "chr1_102096379_102096418        -6.8  ...     1     0     0     0     1     0   \n",
       "chr1_102151616_102151639        -2.6  ...     0     0     0     0     0     0   \n",
       "chr1_10298983_10299071         -20.6  ...     1     1     0     1     0     0   \n",
       "\n",
       "                          UUUA  UUUC  UUUG  UUUU  \n",
       "id                                                \n",
       "chr1_100038134_100038156     0     0     0     0  \n",
       "chr1_100088027_100088063     1     0     1     0  \n",
       "chr1_102096379_102096418     0     1     0     0  \n",
       "chr1_102151616_102151639     0     0     0     0  \n",
       "chr1_10298983_10299071       2     0     0     1  \n",
       "\n",
       "[5 rows x 268 columns]"
      ]
     },
     "execution_count": 7,
     "metadata": {},
     "output_type": "execute_result"
    }
   ],
   "source": [
    "fcn_data_df = data_df[fcn_columns]\n",
    "fcn_data_df.head()"
   ]
  },
  {
   "cell_type": "code",
   "execution_count": 8,
   "metadata": {},
   "outputs": [],
   "source": [
    "labels = fcn_data_df['label'].values"
   ]
  },
  {
   "cell_type": "code",
   "execution_count": 9,
   "metadata": {},
   "outputs": [],
   "source": [
    "np.save(file=\"./Data/exRNA_baseline/labels.npy\", arr=labels)"
   ]
  },
  {
   "cell_type": "code",
   "execution_count": 10,
   "metadata": {},
   "outputs": [
    {
     "name": "stderr",
     "output_type": "stream",
     "text": [
      "/home/mohsen/.local/lib/python3.6/site-packages/pandas/core/frame.py:3940: SettingWithCopyWarning: \n",
      "A value is trying to be set on a copy of a slice from a DataFrame\n",
      "\n",
      "See the caveats in the documentation: http://pandas.pydata.org/pandas-docs/stable/indexing.html#indexing-view-versus-copy\n",
      "  errors=errors)\n"
     ]
    }
   ],
   "source": [
    "fcn_data_df.drop(['label', 'chr'], axis=1, inplace=True)"
   ]
  },
  {
   "cell_type": "code",
   "execution_count": 11,
   "metadata": {},
   "outputs": [],
   "source": [
    "np.save(file=\"./Data/exRNA_baseline/features.npy\", arr=fcn_data_df.values)"
   ]
  },
  {
   "cell_type": "markdown",
   "metadata": {},
   "source": [
    "# Data Pre-processing"
   ]
  },
  {
   "cell_type": "code",
   "execution_count": 12,
   "metadata": {},
   "outputs": [
    {
     "data": {
      "text/plain": [
       "array(['CUCGCCGAGCCGGGCCGUCAUCA', 'ACUUUACAGAGUCCAUUUGUCCACCCGUAGUGUCGAG',\n",
       "       'GUUGGGGCACAAAAUCGAGUCAUCGAUUUCGAGACGUGGA', ...,\n",
       "       'CUCCGACCACAAUCGUUUUUU',\n",
       "       'CCAGGGUCAGGAUCGACGACCGUAGUGAUAUGAUGAUUGUCUGGCGUUGGAGUUGUGGUGGAAGAA',\n",
       "       'AAAAAAAAAAACAGAGGGUUGG'], dtype=object)"
      ]
     },
     "execution_count": 12,
     "metadata": {},
     "output_type": "execute_result"
    }
   ],
   "source": [
    "seq_data = seq_data_df['seq'].values\n",
    "seq_data"
   ]
  },
  {
   "cell_type": "code",
   "execution_count": 13,
   "metadata": {},
   "outputs": [],
   "source": [
    "char_encoder = {\n",
    "    'N': -1,\n",
    "    'A': 0,\n",
    "    'C': 1,\n",
    "    'G': 2,\n",
    "    'U': 3\n",
    "}"
   ]
  },
  {
   "cell_type": "code",
   "execution_count": 14,
   "metadata": {},
   "outputs": [
    {
     "data": {
      "text/plain": [
       "(11425, 200, 4)"
      ]
     },
     "execution_count": 14,
     "metadata": {},
     "output_type": "execute_result"
    }
   ],
   "source": [
    "seq_encoded = exoNet.pp.seq_encoder(seq_data, char_encoder, 200)\n",
    "seq_encoded.shape"
   ]
  },
  {
   "cell_type": "code",
   "execution_count": 15,
   "metadata": {},
   "outputs": [],
   "source": [
    "db_encoder = {\n",
    "    '.': 0,\n",
    "    ')': 1,\n",
    "    '(': 2,\n",
    "}"
   ]
  },
  {
   "cell_type": "code",
   "execution_count": 16,
   "metadata": {},
   "outputs": [
    {
     "data": {
      "text/plain": [
       "(11425, 200, 3)"
      ]
     },
     "execution_count": 16,
     "metadata": {},
     "output_type": "execute_result"
    }
   ],
   "source": [
    "db_encoded = seq_data_df['DB'].values\n",
    "db_encoded = exoNet.pp.seq_encoder(db_encoded, db_encoder, 200, unknown_char=False)\n",
    "db_encoded.shape"
   ]
  },
  {
   "cell_type": "code",
   "execution_count": 17,
   "metadata": {},
   "outputs": [
    {
     "data": {
      "text/plain": [
       "(11425, 200, 7)"
      ]
     },
     "execution_count": 17,
     "metadata": {},
     "output_type": "execute_result"
    }
   ],
   "source": [
    "seq_encoded = np.concatenate([seq_encoded, db_encoded], axis=2)\n",
    "seq_encoded.shape"
   ]
  },
  {
   "cell_type": "code",
   "execution_count": 18,
   "metadata": {},
   "outputs": [],
   "source": [
    "np.save(file=\"./Data/exRNA_baseline/sequences.npy\", arr=seq_encoded)"
   ]
  },
  {
   "cell_type": "code",
   "execution_count": null,
   "metadata": {},
   "outputs": [],
   "source": []
  }
 ],
 "metadata": {
  "kernelspec": {
   "display_name": "Python 3",
   "language": "python",
   "name": "python3"
  },
  "language_info": {
   "codemirror_mode": {
    "name": "ipython",
    "version": 3
   },
   "file_extension": ".py",
   "mimetype": "text/x-python",
   "name": "python",
   "nbconvert_exporter": "python",
   "pygments_lexer": "ipython3",
   "version": "3.6.8"
  }
 },
 "nbformat": 4,
 "nbformat_minor": 2
}
